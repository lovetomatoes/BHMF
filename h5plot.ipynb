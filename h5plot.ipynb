{
 "cells": [
  {
   "cell_type": "code",
   "execution_count": 1,
   "metadata": {},
   "outputs": [],
   "source": [
    "# f_seed 需改 PY/init 中的 因为 models_logd 传入的是 global 的f_seed 值\n",
    "from PYmodule import *\n",
    "from PYmodule.models_logd import *"
   ]
  },
  {
   "cell_type": "code",
   "execution_count": 2,
   "metadata": {
    "scrolled": true
   },
   "outputs": [
    {
     "name": "stdout",
     "output_type": "stream",
     "text": [
      "max tau: 249.58268579763228\n",
      "len of samples: 5000\n",
      "len of extracted samples: 500000\n",
      "best paras: [18.7555167  -1.2574505   0.87372563  0.20389703] -3.1054538991409824\n"
     ]
    }
   ],
   "source": [
    "f_seedlabel = 'f%d'%abs(int(np.log10(f_seed)))\n",
    "f_seedlegend = r'$\\mathrm{f_{seed}}=$'+str(f_seed)\n",
    "fname = '../M0r8_'+f_seedlabel+'.h5'\n",
    "prex = '../' + f_seedlabel\n",
    "prex = './' + f_seedlabel\n",
    "\n",
    "labels = [r'$\\tau$', r'$\\log \\delta$', r'$\\lambda_0$', r'$\\alpha$']\n",
    "\n",
    "reader = emcee.backends.HDFBackend(fname)\n",
    "ndim = len(labels)\n",
    "\n",
    "tau = reader.get_autocorr_time(tol=1)\n",
    "tau = np.max(tau); print('max tau:',tau)\n",
    "Nburnin = int(3*tau)\n",
    "Nthin = int(tau/2)\n",
    "\n",
    "Nburnin = 0\n",
    "Nthin = 1\n",
    "\n",
    "samples = reader.get_chain(discard=Nburnin)\n",
    "probs = reader.get_log_prob(discard=Nburnin)\n",
    "print('len of samples:', len(samples))\n",
    "\n",
    "samples = reader.get_chain(discard=Nburnin, thin=Nthin, flat=True)\n",
    "probs = reader.get_log_prob(discard=Nburnin, thin=Nthin, flat=True)\n",
    "print('len of extracted samples:', len(samples))\n",
    "theta_max = samples[np.argmax(probs)]\n",
    "print('best paras:',theta_max,np.max(probs))\n"
   ]
  },
  {
   "cell_type": "code",
   "execution_count": 3,
   "metadata": {},
   "outputs": [
    {
     "name": "stdout",
     "output_type": "stream",
     "text": [
      "0.01\n"
     ]
    }
   ],
   "source": [
    "# fig = corner.corner(samples,show_titles=True,title_kwargs={'fontsize':15},\n",
    "# label_kwargs={'fontsize':20},max_n_ticks=4,labels=labels,plot_datapoints=True,\n",
    "# quantiles=[0.16, 0.5, 0.84])\n",
    "# axes = np.array(fig.axes).reshape((ndim, ndim))\n",
    "# for i in range(ndim):\n",
    "#     for j in range(ndim):\n",
    "#         axes[i][j].tick_params(labelsize=12)\n",
    "# plt.savefig(prex+'_corner.png',dpi=400,rasterized=True)\n",
    "# exit(0)\n",
    "\n",
    "print(f_seed)"
   ]
  },
  {
   "cell_type": "code",
   "execution_count": 4,
   "metadata": {},
   "outputs": [],
   "source": [
    "ndraw = 5\n",
    "\n",
    "best_model = model(theta_max)\n",
    "\n",
    "draw = np.floor(np.random.uniform(0,len(samples),size=ndraw)).astype(int)\n",
    "thetas = samples[draw]\n",
    "model_thetas = [model(theta_i) for theta_i in thetas]"
   ]
  },
  {
   "cell_type": "code",
   "execution_count": 5,
   "metadata": {},
   "outputs": [],
   "source": [
    "fig, ax = plt.subplots(figsize=(10, 10))\n",
    "curve_name = 'MF'\n",
    "xs = best_model['M_BH'][::int(N_mf/100)] # ~100 points\n",
    "y_data = best_model[curve_name+'_data'][::int(N_mf/100)]\n",
    "y_logdata = np.log10(y_data)\n",
    "y_best = best_model[curve_name][::int(N_mf/100)]\n",
    "y_err = best_model[curve_name+'_data_err'][::int(N_mf/100)]\n",
    "ax.plot(xs, y_data, c='C0',label='Willott+ 10')\n",
    "# error band of W10\n",
    "ax.fill_between(xs,pow(10.,y_logdata-y_err/2.),pow(10.,y_logdata+y_err/2.),color='C0',alpha=0.1,label='_data error')\n",
    "\n",
    "mod_list = []\n",
    "for i in range(ndraw):\n",
    "    mod = model_thetas[i][curve_name][::int(N_mf/100)]\n",
    "    mod_list.append(mod)\n",
    "    # ax.plot(xs, mod, c='grey',label='_',alpha=.2)\n",
    "spread = np.std(mod_list,axis=0)\n",
    "med_model = np.median(mod_list,axis=0)\n",
    "ax.fill_between(xs,med_model-spread,med_model+spread,color='grey',alpha=0.1,label=r'_$1\\sigma$ Posterior Spread')\n",
    "ax.plot(xs, y_best, c='black', label='Best-fit Model')\n",
    "\n",
    "ax.text(1e9,3e-7, f_seedlegend+'\\n'+ \\\n",
    "labels[0]+' = %.2f Myr\\n'%(theta_max[0])+labels[1]+' = %.2f\\n'%(theta_max[1])\\\n",
    "+labels[2]+' = %.2f\\n'%(theta_max[2])+labels[3]+' = %.2f\\n'%(theta_max[3])\n",
    ", fontsize=21)\n",
    "\n",
    "ax.set_xlim(1e7,1e10); ax.set_xscale('log')\n",
    "ax.set_ylim(1e-10,1e-4); ax.set_yscale('log')\n",
    "ax.legend(fontsize=fslegend)\n",
    "plt.xlabel(r'$\\mathrm{M_{\\bullet}~(M_\\odot)}$',fontsize=fslabel)\n",
    "plt.ylabel(r'$\\mathrm{\\Phi_M~(Mpc^{-3}dex^{-1})}$',fontsize=fslabel)\n",
    "plt.tick_params(labelsize=fstick)\n",
    "\n",
    "plt.savefig(f_seedlabel+'ndraw%dMF_spread.png'%ndraw,dpi=300,bbox_inches='tight')\n"
   ]
  },
  {
   "cell_type": "markdown",
   "metadata": {},
   "source": [
    "# ---------------------------------         QLF         ----------------------------------------\n"
   ]
  },
  {
   "cell_type": "code",
   "execution_count": 6,
   "metadata": {},
   "outputs": [
    {
     "name": "stdout",
     "output_type": "stream",
     "text": [
      "[-19 -20 -21] [6.30957344e-06 7.94328235e-06 1.99526231e-06]\n",
      "       M1450       \n",
      "-------------------\n",
      "            -21.125\n",
      "-20.435000000000002\n",
      "            -19.705 \n",
      "       M1450       \n",
      "------------------\n",
      "0.7100000000000009\n",
      "0.6699999999999982\n",
      "0.7900000000000027\n"
     ]
    }
   ],
   "source": [
    "# G15 3 data points \n",
    "M1450_G = np.array([-19,-20,-21]); logPhi_G = np.array([-5.2,-5.1,-5.7])\n",
    "logPhicorr_G = np.array([-4.7,-4.7,-5.7])\n",
    "print( M1450_G, pow(10,logPhi_G) )\n",
    "\n",
    "# Giallongo 2019; X-ray faint QLF 4 data points\n",
    "M1450_G19 = np.array([-19,-20,-21,-22]); Phi_G19 = np.array([7.27,4.77,0.69,0.62])*1e-6\n",
    "Phip_G19 = np.array([7.12,3.79,1.61,1.44])*1e-6; Phim_G19 = np.array([4.02,2.31,0.60,0.54])*1e-6\n",
    "# QLF sample: z=5.5 to 6.1; z=5.55 to z=6; extrapolating w/ Jiang2016 density evolution slope: -0.72\n",
    "Phi_G19 *= pow(10, -0.72*(6-5.55))\n",
    "Phip_G19*= pow(10, -0.72*(6-5.55))\n",
    "Phim_G19*= pow(10, -0.72*(6-5.55))\n",
    "\n",
    "# Jiang 2022;\n",
    "namelist = [#'fig3a_data_individualFields',\n",
    "           'fig3a_data_combinedFields_95CL',\n",
    "           #'fig3a_data_combinedFields_75CL',\n",
    "           ]\n",
    "nameFitlist = [#'fig3a_data_modelFit_75CL',\n",
    "           'fig3a_data_modelFit_95CL',\n",
    "           ]\n",
    "name = 'fig3a_data_combinedFields_95CL'\n",
    "T_J = ascii.read('../data/Jiang_SD_Fig3/%s.txt'%(namelist[0]), guess=False, delimiter=' ',names=['M1450','Phi_cumu'])\n",
    "M1450_J = (T_J['M1450'][1:] + T_J['M1450'][:-1]) /2.\n",
    "dM1450_J = T_J['M1450'][1:] - T_J['M1450'][:-1]\n",
    "Phi_J = 1e-9* (T_J['Phi_cumu'][1:] - T_J['Phi_cumu'][:-1])/dM1450_J\n",
    "\n",
    "print(M1450_J,'\\n', dM1450_J)"
   ]
  },
  {
   "cell_type": "code",
   "execution_count": 8,
   "metadata": {},
   "outputs": [],
   "source": [
    "fig, ax = plt.subplots(figsize=(10, 10))\n",
    "curve_name = 'LF'\n",
    "xs = best_model['M1450']\n",
    "x_data = best_model['M1450_data']\n",
    "y_data = best_model[curve_name+'_data']\n",
    "y_data_err = best_model[curve_name+'_data_err']\n",
    "y_best = best_model[curve_name]\n",
    "# spread\n",
    "mod_list = []\n",
    "for i in range(ndraw):\n",
    "    mod = model_thetas[i][curve_name]\n",
    "    mod_list.append(mod)\n",
    "    # ax.plot(xs, mod, c='grey',label='_',alpha=.2)\n",
    "spread = np.std(mod_list,axis=0)\n",
    "med_model = np.median(mod_list,axis=0)\n",
    "ax.fill_between(xs,(med_model-spread)/1e9,(med_model+spread)/1e9,color='grey',alpha=0.1,label='_',zorder=5)\n",
    "ax.plot(xs, y_best/1e9, c='black', label='_best fit')\n",
    "ax.plot(xs, y_best/1e9*corr_U14D20(xs),'--', c='black', label='_best fit w/o obscuration correction',zorder=5)\n",
    "\n",
    "# Matsuoka 2018; data(errorbar) + fitting curve\n",
    "ax.errorbar(x_data, y_data/1e9, yerr=y_data_err/1e9,fmt='o',capsize=10, label='Matsuoka +18')\n",
    "ax.plot(xs,LF_M1450(xs),c='C0',label='_Matsu fitting')\n",
    "\n",
    "# Giallongo 2015; data + Poission errors\n",
    "# ax.errorbar(M1450_G, pow(10,logPhicorr_G), yerr=pow(10,logPhicorr_G)/np.array([1,3**.5,1]),fmt='s',capsize=10, label='Giallongo+15')\n",
    "# Giallongo 2019; Phi_corr data + errors\n",
    "ax.errorbar(M1450_G19, Phi_G19, yerr=[Phim_G19,Phip_G19],fmt='s',capsize=10, label='Giallongo+19')\n",
    "\n",
    "# Jiang 2022; upper limits\n",
    "# for name in namelist:\n",
    "#     T_J = ascii.read('../data/Jiang_SD_Fig3/%s.txt'%name, guess=False, delimiter=' ',names=['M1450','Phi'])\n",
    "#     M1450_J = T_J['M1450']\n",
    "#     logPhi_J = T_J['Phi']/1e9\n",
    "ax.errorbar( M1450_J, Phi_J,xerr=dM1450_J/2, yerr = Phi_J/2,uplims=True, label='Jiang+ 22',fmt='D',color='C2',capsize=3)\n",
    "\n",
    "# for name in nameFitlist:\n",
    "#     T_J = ascii.read('../data/Jiang_SD_Fig3/%s.txt'%name, guess=False, delimiter=' ',names=['M1450','Phi'])\n",
    "#     M1450_J = T_J['M1450']\n",
    "#     logPhi_J = T_J['Phi']/1e9\n",
    "#     ax.plot( M1450_J, logPhi_J, c='C2')\n",
    "\n",
    "ax.set_xlim(-18.5,-30)\n",
    "# ax.set_ylim(5e-3,1e2)\n",
    "ax.set_yscale('log')\n",
    "plt.xlabel(r'$\\mathrm{M_{1450}}$',fontsize=fslabel)\n",
    "plt.ylabel(r'$\\mathrm{\\Phi~(Mpc^{-3}mag^{-1})}$',fontsize=fslabel)\n",
    "plt.tick_params(labelsize=fstick)\n",
    "# plt.tight_layout()\n",
    "plt.legend(fontsize=fslabel)\n",
    "\n",
    "\n",
    "locmajx = FixedLocator(np.arange(-17,-30,-2)) # subs=(0.2,0.4,0.6,0.8)\n",
    "locminx = FixedLocator(np.arange(17,-30,-.5)) # subs=(0.2,0.4,0.6,0.8)\n",
    "ax.xaxis.set_major_locator(locmajx)\n",
    "ax.xaxis.set_minor_locator(locminx)\n",
    "ax.xaxis.set_minor_formatter(matplotlib.ticker.NullFormatter())\n",
    "\n",
    "locmajy = LogLocator(base=10,numticks=100)\n",
    "locminy = LogLocator(base=10,subs=np.arange(2, 10) * .1,numticks=100) # subs=(0.2,0.4,0.6,0.8)\n",
    "ax.yaxis.set_major_locator(locmajy)\n",
    "ax.yaxis.set_minor_locator(locminy)\n",
    "ax.yaxis.set_minor_formatter(matplotlib.ticker.NullFormatter())\n",
    "\n",
    "plt.savefig(f_seedlabel+'ndraw%dLF_spread.png'%ndraw,dpi=300,bbox_inches='tight')"
   ]
  },
  {
   "cell_type": "code",
   "execution_count": null,
   "metadata": {},
   "outputs": [],
   "source": []
  },
  {
   "cell_type": "code",
   "execution_count": null,
   "metadata": {},
   "outputs": [],
   "source": []
  },
  {
   "cell_type": "code",
   "execution_count": null,
   "metadata": {},
   "outputs": [],
   "source": []
  },
  {
   "cell_type": "code",
   "execution_count": null,
   "metadata": {},
   "outputs": [],
   "source": []
  },
  {
   "cell_type": "code",
   "execution_count": null,
   "metadata": {},
   "outputs": [],
   "source": []
  },
  {
   "cell_type": "code",
   "execution_count": null,
   "metadata": {},
   "outputs": [],
   "source": []
  },
  {
   "cell_type": "code",
   "execution_count": null,
   "metadata": {},
   "outputs": [],
   "source": []
  },
  {
   "cell_type": "markdown",
   "metadata": {},
   "source": [
    "# prev"
   ]
  },
  {
   "cell_type": "code",
   "execution_count": null,
   "metadata": {},
   "outputs": [],
   "source": [
    "from PYmodule import *\n",
    "from PYmodule.models_logd import *\n",
    "import matplotlib\n",
    "%matplotlib inline"
   ]
  },
  {
   "cell_type": "code",
   "execution_count": null,
   "metadata": {},
   "outputs": [],
   "source": [
    "fname = '../M0r8_f2.h5'\n",
    "prex = '../f2'\n",
    "\n",
    "labels = [r'$\\mathrm{t_{life}}$', r'$\\log \\delta$', r'$\\lambda_0$', r'$\\alpha$']\n",
    "\n",
    "reader = emcee.backends.HDFBackend(fname)\n",
    "ndim = len(labels)\n",
    "\n",
    "tau = reader.get_autocorr_time(tol=1)\n",
    "tau = np.max(tau); print('max tau:',tau)\n",
    "Nburnin = int(3*tau)\n",
    "Nthin = int(tau/2)\n",
    "\n",
    "Nburnin = 0\n",
    "Nthin = 1"
   ]
  },
  {
   "cell_type": "code",
   "execution_count": null,
   "metadata": {},
   "outputs": [],
   "source": [
    "samples = reader.get_chain(discard=Nburnin)\n",
    "probs = reader.get_log_prob(discard=Nburnin)\n",
    "print('len of samples:', len(samples))\n",
    "\n",
    "samples = reader.get_chain(discard=Nburnin, thin=Nthin, flat=True)\n",
    "probs = reader.get_log_prob(discard=Nburnin, thin=Nthin, flat=True)\n",
    "print('len of extracted samples:', len(samples))\n",
    "theta_max = samples[np.argmax(probs)]\n",
    "print('best paras:',theta_max,np.max(probs))\n"
   ]
  },
  {
   "cell_type": "code",
   "execution_count": null,
   "metadata": {},
   "outputs": [],
   "source": [
    "ndraw = 20\n",
    "fig, ax = plt.subplots(figsize=(10, 10)) #figsize=(10, 10)\n",
    "curve_name = 'MF'\n",
    "best_model = model(theta_max)\n",
    "xs = best_model['M_BH'][::int(N_mf/100)] # ~100 points\n",
    "y_data = best_model[curve_name+'_data'][::int(N_mf/100)]\n",
    "y_logdata = np.log10(y_data)\n",
    "y_best = best_model[curve_name][::int(N_mf/100)]\n",
    "y_err = best_model[curve_name+'_data_err'][::int(N_mf/100)]\n",
    "ax.plot(xs, y_data, c='C0',label='W10')\n",
    "# error band of W10\n",
    "plt.fill_between(xs,pow(10.,y_logdata-y_err/2.),pow(10.,y_logdata+y_err/2.),color='C0',alpha=0.5,label='_')\n",
    "\n",
    "draw = np.floor(np.random.uniform(0,len(samples),size=ndraw)).astype(int)\n",
    "thetas = samples[draw]\n",
    "model_thetas = [model(theta_i) for theta_i in thetas]\n",
    "mod_list = []\n",
    "for i in range(ndraw):\n",
    "    mod = model_thetas[i][curve_name][::int(N_mf/100)]\n",
    "    mod_list.append(mod)\n",
    "    # ax.plot(xs, mod, c='grey',label='_',alpha=.2)\n",
    "spread = np.std(mod_list,axis=0)\n",
    "med_model = np.median(mod_list,axis=0)\n",
    "plt.fill_between(xs,med_model-spread,med_model+spread,color='orange',alpha=0.5,label=r'$1\\sigma$ Posterior Spread')\n",
    "ax.plot(xs, y_best, c='orange', label='Best-fit Model')\n",
    "ax.set_xlim(1e7,1e10); ax.set_xscale('log')\n",
    "ax.set_ylim(1e-10,1e-4); ax.set_yscale('log')\n",
    "ax.legend(fontsize=fslegend)\n",
    "\n",
    "plt.xlabel(r'$\\mathrm{M_{BH}~(M_\\odot)}$',fontsize=fslabel)\n",
    "plt.ylabel(r'$\\mathrm{\\Phi_M~(Mpc^{-3}dex^{-1})}$',fontsize=fslabel)\n",
    "plt.tick_params(labelsize=fstick)\n",
    "plt.savefig(prex+'ndraw%dMF_spread.png'%ndraw,dpi=300,bbox_inches='tight')\n",
    "# plt.show()"
   ]
  },
  {
   "cell_type": "code",
   "execution_count": null,
   "metadata": {},
   "outputs": [],
   "source": [
    "ndraw = 40\n",
    "fig, ax = plt.subplots(figsize=(10, 10)) #figsize=(10, 10)\n",
    "curve_name = 'MF'\n",
    "best_model = model(theta_max)\n",
    "xs = best_model['M_BH'][::int(N_mf/100)] # ~100 points\n",
    "y_data = best_model[curve_name+'_data'][::int(N_mf/100)]\n",
    "y_logdata = np.log10(y_data)\n",
    "y_best = best_model[curve_name][::int(N_mf/100)]\n",
    "y_err = best_model[curve_name+'_data_err'][::int(N_mf/100)]\n",
    "ax.plot(xs, y_data, c='C0',label='data')\n",
    "# error band of W10\n",
    "plt.fill_between(xs,pow(10.,y_logdata-y_err/2.),pow(10.,y_logdata+y_err/2.),color='C0',alpha=0.5,label='_')\n",
    "\n",
    "draw = np.floor(np.random.uniform(0,len(samples),size=ndraw)).astype(int)\n",
    "thetas = samples[draw]\n",
    "model_thetas = [model(theta_i) for theta_i in thetas]\n",
    "mod_list = []\n",
    "for i in range(ndraw):\n",
    "    mod = model_thetas[i][curve_name][::int(N_mf/100)]\n",
    "    mod_list.append(mod)\n",
    "    # ax.plot(xs, mod, c='grey',label='_',alpha=.2)\n",
    "spread = np.std(mod_list,axis=0)\n",
    "med_model = np.median(mod_list,axis=0)\n",
    "plt.fill_between(xs,med_model-spread,med_model+spread,color='orange',alpha=0.5,label=r'$1\\sigma$ Posterior Spread')\n",
    "ax.plot(xs, y_best, c='orange', label='Best-fit Model')\n",
    "ax.set_xlim(1e7,1e10); ax.set_xscale('log')\n",
    "ax.set_ylim(1e-10,1e-4); ax.set_yscale('log')\n",
    "ax.legend(fontsize=fslegend)\n",
    "\n",
    "plt.xlabel(r'$\\mathrm{M_{BH}~(M_\\odot)}$',fontsize=fslabel)\n",
    "plt.ylabel(r'$\\mathrm{\\Phi_M~(Mpc^{-3}dex^{-1})}$',fontsize=fslabel)\n",
    "plt.tick_params(labelsize=fstick)\n",
    "plt.savefig(prex+'ndraw%dMF_spread.png'%ndraw,dpi=300,bbox_inches='tight')\n",
    "# plt.show()"
   ]
  },
  {
   "cell_type": "code",
   "execution_count": null,
   "metadata": {},
   "outputs": [],
   "source": [
    "ndraw = 60\n",
    "fig, ax = plt.subplots(figsize=(10, 10)) #figsize=(10, 10)\n",
    "curve_name = 'MF'\n",
    "best_model = model(theta_max)\n",
    "xs = best_model['M_BH'][::int(N_mf/100)] # ~100 points\n",
    "y_data = best_model[curve_name+'_data'][::int(N_mf/100)]\n",
    "y_logdata = np.log10(y_data)\n",
    "y_best = best_model[curve_name][::int(N_mf/100)]\n",
    "y_err = best_model[curve_name+'_data_err'][::int(N_mf/100)]\n",
    "ax.plot(xs, y_data, c='C0',label='data')\n",
    "# error band of W10\n",
    "plt.fill_between(xs,pow(10.,y_logdata-y_err/2.),pow(10.,y_logdata+y_err/2.),color='C0',alpha=0.5,label='_')\n",
    "\n",
    "draw = np.floor(np.random.uniform(0,len(samples),size=ndraw)).astype(int)\n",
    "thetas = samples[draw]\n",
    "model_thetas = [model(theta_i) for theta_i in thetas]\n",
    "mod_list = []\n",
    "for i in range(ndraw):\n",
    "    mod = model_thetas[i][curve_name][::int(N_mf/100)]\n",
    "    mod_list.append(mod)\n",
    "    # ax.plot(xs, mod, c='grey',label='_',alpha=.2)\n",
    "spread = np.std(mod_list,axis=0)\n",
    "med_model = np.median(mod_list,axis=0)\n",
    "plt.fill_between(xs,med_model-spread,med_model+spread,color='orange',alpha=0.5,label=r'$1\\sigma$ Posterior Spread')\n",
    "ax.plot(xs, y_best, c='orange', label='Best-fit Model')\n",
    "ax.set_xlim(1e7,1e10); ax.set_xscale('log')\n",
    "ax.set_ylim(1e-10,1e-4); ax.set_yscale('log')\n",
    "ax.legend(fontsize=fslegend)\n",
    "\n",
    "plt.xlabel(r'$\\mathrm{M_{BH}~(M_\\odot)}$',fontsize=fslabel)\n",
    "plt.ylabel(r'$\\mathrm{\\Phi_M~(Mpc^{-3}dex^{-1})}$',fontsize=fslabel)\n",
    "plt.tick_params(labelsize=fstick)\n",
    "plt.savefig(prex+'ndraw%dMF_spread.png'%ndraw,dpi=300,bbox_inches='tight')\n",
    "# plt.show()"
   ]
  },
  {
   "cell_type": "code",
   "execution_count": null,
   "metadata": {
    "scrolled": true
   },
   "outputs": [],
   "source": [
    "fig, ax = plt.subplots(figsize=(10, 10))\n",
    "curve_name = 'LF'\n",
    "xs = best_model['M1450']\n",
    "x_data = best_model['M1450_data']\n",
    "y_data = best_model[curve_name+'_data']\n",
    "y_data_err = best_model[curve_name+'_data_err']\n",
    "y_best = best_model[curve_name]\n",
    "ax.scatter(x_data, y_data, label='_')\n",
    "plt.errorbar(x_data, y_data, yerr=y_data_err,fmt='o',capsize=10)\n",
    "# print('y_data_err',y_data_err)\n",
    "mod_list = []\n",
    "for i in range(ndraw):\n",
    "    mod = model_thetas[i][curve_name]\n",
    "    mod_list.append(mod)\n",
    "    # ax.plot(xs, mod, c='grey',label='_',alpha=.2)\n",
    "spread = np.std(mod_list,axis=0)\n",
    "med_model = np.median(mod_list,axis=0)\n",
    "plt.fill_between(xs,med_model-spread,med_model+spread,color='orange',alpha=0.5,label='_')\n",
    "ax.plot(xs, y_best, c='orange', label='_')\n",
    "ax.text(-26,5, 'f2\\n'+ \\\n",
    "labels[0]+' = %.2f Myr\\n'%(theta_max[0])+labels[1]+' = %.2f\\n'%(theta_max[1])\\\n",
    "+labels[2]+' = %.2f\\n'%(theta_max[2])+labels[3]+' = %.2f\\n'%(theta_max[3])\n",
    ", fontsize=20)\n",
    "ax.set_xlim(np.max(xs),np.min(xs))\n",
    "ax.set_ylim(5e-3,1e2)\n",
    "ax.set_yscale('log')\n",
    "plt.xlabel(r'$\\mathrm{M_{1450}}$',fontsize=fslabel)\n",
    "plt.ylabel(r'$\\mathrm{\\Phi~(Gpc^{-3}mag^{-1})}$',fontsize=fslabel)\n",
    "plt.tick_params(labelsize=fstick)\n",
    "# plt.tight_layout()\n",
    "plt.savefig(prex+'ndraw%dLF_spread.png'%ndraw,dpi=300,bbox_inches='tight')\n"
   ]
  }
 ],
 "metadata": {
  "kernelspec": {
   "display_name": "Python 3",
   "language": "python",
   "name": "python3"
  },
  "language_info": {
   "codemirror_mode": {
    "name": "ipython",
    "version": 3
   },
   "file_extension": ".py",
   "mimetype": "text/x-python",
   "name": "python",
   "nbconvert_exporter": "python",
   "pygments_lexer": "ipython3",
   "version": "3.7.3"
  },
  "vscode": {
   "interpreter": {
    "hash": "398dc28c06ad810e77de546bbdfa897a6ee0b83e59a5207339dda01a7843e01d"
   }
  }
 },
 "nbformat": 4,
 "nbformat_minor": 2
}
