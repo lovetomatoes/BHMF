{
 "cells": [
  {
   "cell_type": "code",
   "execution_count": 1,
   "metadata": {},
   "outputs": [],
   "source": [
    "from PYmodule import *\n",
    "from PYmodule.l_intg import *\n",
    "from matplotlib.ticker import LogLocator,LinearLocator,MultipleLocator,AutoLocator,FixedLocator"
   ]
  },
  {
   "cell_type": "code",
   "execution_count": 2,
   "metadata": {},
   "outputs": [],
   "source": [
    "z1 = 7.642\n",
    "t_1 = t_from_z(z1)\n",
    "z_end = 6\n",
    "t_end = t_from_z(z_end)\n",
    "\n",
    "T_seed = Ts[0][0]\n",
    "tz = t_from_z(6.)/Myr\n",
    "t0 = np.min(T_seed['t_col']/Myr)"
   ]
  },
  {
   "cell_type": "code",
   "execution_count": 3,
   "metadata": {},
   "outputs": [],
   "source": [
    "t_life, logd_fit, l_cut, a = 18.7555167,  -1.2574505,   0.87372563,  0.20389703; f_seed = 0.01\n",
    "# z=6 BH mass, λ, L_bol\n",
    "f_seedlabel = 'f%d'%abs(int(np.log10(f_seed)))\n",
    "\n",
    "# by gamma\n",
    "prex = '../temp/distf2N5_08201450_'\n",
    "# prex = '../temp/distf2N6_08201505_'\n",
    "prex = '../temp/distf2N7_08201925_'\n",
    "# prex = '../temp/distf2N8_08201220_'\n",
    "prex = '../temp/distf2N5_08211127_'\n",
    "prex = '../temp/distf2N4_08211421_'\n"
   ]
  },
  {
   "cell_type": "markdown",
   "metadata": {},
   "source": [
    "## growth tracks for all BHs (at z=6 >$M_{low}$)"
   ]
  },
  {
   "cell_type": "code",
   "execution_count": 4,
   "metadata": {},
   "outputs": [
    {
     "name": "stdout",
     "output_type": "stream",
     "text": [
      "1471\n"
     ]
    }
   ],
   "source": [
    "M_low = 1e8\n",
    "\n",
    "T_M = np.loadtxt(prex+'Mevol.txt') # each line a BH growth track; all end with M>1e8\n",
    "T_l = np.loadtxt(prex+'levol.txt') # each line a BH growth track; all end with M>1e8\n",
    "T_t = np.loadtxt(prex+'tevol.txt') # each line a lambda track; all end with M>1e8\n",
    "T_z = np.loadtxt(prex+'zevol.txt') # each line a lambda track; all end with M>1e8\n",
    "print(len(T_M))"
   ]
  },
  {
   "cell_type": "code",
   "execution_count": 5,
   "metadata": {},
   "outputs": [
    {
     "name": "stdout",
     "output_type": "stream",
     "text": [
      "132\n"
     ]
    }
   ],
   "source": [
    "M1 = T_M.transpose()[-1]\n",
    "T_M = T_M[np.where(M1>M_low)]\n",
    "T_l = T_l[np.where(M1>M_low)]\n",
    "T_t = T_t[np.where(M1>M_low)]\n",
    "T_z = T_z[np.where(M1>M_low)]\n",
    "print(len(T_M))"
   ]
  },
  {
   "cell_type": "code",
   "execution_count": 6,
   "metadata": {},
   "outputs": [],
   "source": [
    "def tick_function(X):\n",
    "    V = 535*((1+X)/10)**(-3/2)\n",
    "    return [\"%d\" % z for z in V]"
   ]
  },
  {
   "cell_type": "code",
   "execution_count": 7,
   "metadata": {},
   "outputs": [
    {
     "name": "stdout",
     "output_type": "stream",
     "text": [
      "29.57574315558869 18.26151120895264 13.699284142659158 9.456757069564262 6.066678746192224\n"
     ]
    }
   ],
   "source": [
    "t_from_z(9)/Myr, tick_function(np.array([9]))\n",
    "print(z_tH(100),z_tH(200),\n",
    "z_tH(300),\n",
    "z_tH(500),\n",
    "z_tH(900))\n",
    "#     return 2./(3*H0*np.sqrt(Omega_m0)) * pow(1+z, -1.5)"
   ]
  },
  {
   "cell_type": "code",
   "execution_count": 8,
   "metadata": {},
   "outputs": [
    {
     "name": "stdout",
     "output_type": "stream",
     "text": [
      "1471 5\n",
      "132\n"
     ]
    }
   ],
   "source": [
    "print(len(M1), len(M1[M1>1e9]))\n",
    "print(min(len(T_M),1000))"
   ]
  },
  {
   "cell_type": "code",
   "execution_count": 9,
   "metadata": {},
   "outputs": [],
   "source": [
    "T_M_Wang = np.loadtxt('../temp/distf2N6_08212227_Mevol.txt') # each line a BH growth track; all end with M>1e8\n",
    "T_l_Wang = np.loadtxt('../temp/distf2N6_08212227_levol.txt') # each line a BH growth track; all end with M>1e8\n",
    "T_t_Wang = np.loadtxt('../temp/distf2N6_08212227_tevol.txt') # each line a lambda track; all end with M>1e8\n",
    "T_z_Wang = np.loadtxt('../temp/distf2N6_08212227_zevol.txt') # each line a lambda track; all end with M>1e8\n",
    "# print(T_M,T_z)\n",
    "i = 1177\n",
    "M_Wang, l_Wang, z_Wang, t_Wang = T_M_Wang[i], T_l_Wang[i], T_z_Wang[i], T_t_Wang[i]"
   ]
  },
  {
   "cell_type": "code",
   "execution_count": 10,
   "metadata": {
    "scrolled": true
   },
   "outputs": [
    {
     "name": "stdout",
     "output_type": "stream",
     "text": [
      "number of >1e9 MBH: 5\n",
      "5 5\n",
      "912.8900473748333 [ 81.3 100.1 118.8 137.6 156.3 175.1 193.8 212.6 231.3 250.1 268.9 287.6\n",
      " 306.4 325.1 343.9 362.6 381.4 400.1 418.9 437.7 456.4 475.2 493.9 512.7\n",
      " 531.4 550.2 568.9 587.7 606.5 625.2 644.  662.7 681.5 700.2 719.  737.7\n",
      " 756.5 775.3 794.  812.8 831.5 850.3 869.  887.8 906.5 912.9 912.9 912.9]\n",
      "0.2687\n"
     ]
    }
   ],
   "source": [
    "# %matplotlib inline\n",
    "\n",
    "fig, ax_f = plt.subplots(figsize=(10,8))\n",
    "for i in range(min(len(T_M),1000)):\n",
    "    plt.plot(T_z[i],T_M[i], c='grey', alpha=0.3,\n",
    "             rasterized=True,zorder=0\n",
    "            )\n",
    "\n",
    "M1 = T_M.transpose()[-1]\n",
    "ls = T_l.transpose()[-1]\n",
    "\n",
    "\n",
    "SMM1 = M1[M1>1e9]\n",
    "SMl1 = ls[M1>1e9]\n",
    "print('number of >1e9 MBH:',sum(M1>1e9))\n",
    "N_SMBH = len(SMM1)\n",
    "print(N_SMBH,len(SMl1))\n",
    "# same as prev. specially for >1e9 SMBHs\n",
    "print(t_end/Myr, T_t[M1>1e9][0])\n",
    "\n",
    "cm = plt.get_cmap('tab20b')\n",
    "NUM_COLORS = N_SMBH\n",
    "LINE_STYLES = ['solid', 'dashed', 'dashdot']\n",
    "NUM_STYLES = len(LINE_STYLES)\n",
    "\n",
    "for i in range(N_SMBH):\n",
    "#     lines = ax.plot(np.arange(10)*(i+1))\n",
    "#     lines[0].set_color(cm(i//NUM_STYLES*float(NUM_STYLES)/NUM_COLORS))\n",
    "#     lines[0].set_linestyle(LINE_STYLES[i%NUM_STYLES])\n",
    "    \n",
    "    lines = ax_f.plot(T_z[M1>1e9][i],T_M[M1>1e9][i],label='episodic growth'if i==0 else'_',zorder=1)\n",
    "    lines[0].set_color(cm(i/NUM_COLORS))\n",
    "    lines[0].set_linestyle(LINE_STYLES[0%NUM_STYLES])\n",
    "\n",
    "    lines = ax_f.plot(T_z[M1>1e9][i],M1M0_e(SMM1[i],-(t_end-T_t[M1>1e9][i]*Myr),SMl1[i]),label=r'$\\lambda=\\lambda(z=6)$'if i==0 else'_',zorder=1)\n",
    "    lines[0].set_color(cm(i/NUM_COLORS))\n",
    "    lines[0].set_linestyle(LINE_STYLES[1%NUM_STYLES])\n",
    "\n",
    "    lines = ax_f.plot(T_z[M1>1e9][i],M1M0_e(SMM1[i],-(t_end-T_t[M1>1e9][i]*Myr),1),label=r'$\\lambda=1$'if i==0 else'_',zorder=1)\n",
    "    lines[0].set_color(cm(i/NUM_COLORS))\n",
    "    lines[0].set_linestyle(LINE_STYLES[2%NUM_STYLES])\n",
    "    \n",
    "    # plt.scatter(6,SMM1[i],marker='D',s=30,c='C%d'%i)\n",
    "\n",
    "\n",
    "ax_f.plot(z_Wang,M_Wang, c='red', zorder=2)\n",
    "ax_f.plot(z_Wang,M1M0_e(M_Wang[-1],-(t_end-t_Wang*Myr),l_Wang[-1]),'--',c='red',zorder=1)\n",
    "ax_f.plot(z_Wang,M1M0_e(M_Wang[-1],-(t_end-t_Wang*Myr),1),'-.',c='red',zorder=1)\n",
    "\n",
    "\n",
    "plt.scatter(7.642,1.6e9,marker='D',s=30,c='red',zorder=3)\n",
    "print(l_Wang[-1])"
   ]
  },
  {
   "cell_type": "code",
   "execution_count": 11,
   "metadata": {},
   "outputs": [],
   "source": [
    "ax_f.set_yscale(\"log\")\n",
    "#plt.xscale(\"log\")\n",
    "ax_f.set_ylim(5e0,3e11)\n",
    "ax_f.set_xlim(30,5)\n",
    "\n",
    "ax_f.set_ylabel(r'$\\mathrm{M_{\\bullet}~(M_\\odot)}$',fontsize=fslabel)\n",
    "ax_f.set_xlabel('redshift',fontsize=fslabel)\n",
    "ax_f.tick_params(labelsize = fslabel)\n",
    "ax_f.legend(loc='upper left')\n",
    "ax_f.legend(loc=2,fontsize=18,ncol=1)  \n",
    "\n",
    "# ax.zaxis.set_major_locator(LinearLocator(10))\n",
    "#     ax.zaxis.set_major_formatter(FormatStrFormatter('%.02f'))\n",
    "locmajx = FixedLocator(np.arange(30,4,-5)) # subs=(0.2,0.4,0.6,0.8)\n",
    "locminx = FixedLocator(np.arange(30,4,-1)) # subs=(0.2,0.4,0.6,0.8)\n",
    "\n",
    "locmajy = LogLocator(base=100,numticks=100)\n",
    "locminy = LogLocator(base=10,subs=np.arange(2, 10) * .1,numticks=100) # subs=(0.2,0.4,0.6,0.8)\n",
    "ax_f.xaxis.set_major_locator(locmajx)\n",
    "ax_f.xaxis.set_minor_locator(locminx)\n",
    "ax_f.xaxis.set_minor_formatter(matplotlib.ticker.NullFormatter())\n",
    "ax_f.yaxis.set_major_locator(locmajy)\n",
    "ax_f.yaxis.set_minor_locator(locminy)\n",
    "ax_f.yaxis.set_minor_formatter(matplotlib.ticker.NullFormatter())\n",
    "\n",
    "ax2 = ax_f.twiny()\n",
    "new_tick_locations = np.array([29.5757, 18.2615, 13.6992, 9.4567, 6.0666][::-1])\n",
    "\n",
    "locmajx = FixedLocator(new_tick_locations)\n",
    "ax2.xaxis.set_major_locator(locmajx)\n",
    "ax2.xaxis.set_minor_formatter(matplotlib.ticker.NullFormatter())\n",
    "# ax_f.grid(b=True,alpha=0.3)\n",
    "# ax2.set_xticks(new_tick_locations)\n",
    "ax2.set_xticklabels(tick_function(new_tick_locations))\n",
    "ax2.set_xlim(ax_f.get_xlim())\n",
    "ax2.set_xlabel(r\"Cosmic age (Myr)\",fontsize=fslabel)\n",
    "\n",
    "ax2.tick_params(labelsize = fslabel)\n",
    "\n",
    "#ax.annotate(\"-1\",xy=(300,1e-8),fontsize=21, weight='bold', color='k')\n",
    "plt.savefig('Mevol.png', dpi=400, bbox_inches='tight')"
   ]
  },
  {
   "cell_type": "code",
   "execution_count": null,
   "metadata": {},
   "outputs": [],
   "source": []
  },
  {
   "cell_type": "raw",
   "metadata": {},
   "source": [
    "# demo: >10 colors from colormap \n",
    "\n",
    "%matplotlib inline\n",
    "\n",
    "NUM_COLORS = 20\n",
    "LINE_STYLES = ['solid', 'dashed', 'dashdot', 'dotted']\n",
    "NUM_STYLES = len(LINE_STYLES)\n",
    "\n",
    "cm = plt.get_cmap('gist_rainbow')\n",
    "cm = plt.get_cmap('rainbow')\n",
    "cm = plt.get_cmap('RdYlBu')\n",
    "cm = plt.get_cmap('Spectral')\n",
    "cm = plt.get_cmap('tab20b')\n",
    "fig = plt.figure()\n",
    "ax = fig.add_subplot(111)\n",
    "for i in range(NUM_COLORS):\n",
    "    lines = ax.plot(np.arange(10)*(i+1))\n",
    "    lines[0].set_color(cm(i//NUM_STYLES*float(NUM_STYLES)/NUM_COLORS))\n",
    "    lines[0].set_linestyle(LINE_STYLES[i%NUM_STYLES])\n",
    "\n",
    "fig.savefig('moreColors.png')\n",
    "plt.show()\n",
    "\n",
    "NUM_COLORS = 20\n",
    "\n",
    "cm = plt.get_cmap('gist_rainbow')\n",
    "fig = plt.figure()\n",
    "ax = fig.add_subplot(111)\n",
    "ax.set_prop_cycle([cm(1.*i/NUM_COLORS) for i in range(NUM_COLORS)])\n",
    "for i in range(NUM_COLORS):\n",
    "    line =ax.plot(np.arange(10)*(i+1))\n",
    "#     line.set_color(cm)\n",
    "\n",
    "fig.savefig('moreColors.png')\n",
    "plt.show()"
   ]
  },
  {
   "cell_type": "markdown",
   "metadata": {},
   "source": [
    "# $\\lambda$ dist. at z=6 for all BHs(>1e8) \\& SMBHs"
   ]
  },
  {
   "cell_type": "code",
   "execution_count": 12,
   "metadata": {},
   "outputs": [],
   "source": [
    "prex = '../temp/distf2N5_08211127_'"
   ]
  },
  {
   "cell_type": "code",
   "execution_count": 13,
   "metadata": {},
   "outputs": [
    {
     "name": "stdout",
     "output_type": "stream",
     "text": [
      "14102\n"
     ]
    }
   ],
   "source": [
    "T_M = np.loadtxt(prex+'Mevol.txt') # each line a BH growth track; all end with M>1e8\n",
    "T_l = np.loadtxt(prex+'levol.txt') # each line a BH growth track; all end with M>1e8\n",
    "T_t = np.loadtxt(prex+'tevol.txt') # each line a lambda track; all end with M>1e8\n",
    "T_z = np.loadtxt(prex+'zevol.txt') # each line a lambda track; all end with M>1e8\n",
    "print(len(T_M))\n",
    "\n",
    "M1 = T_M.transpose()[-1]"
   ]
  },
  {
   "cell_type": "code",
   "execution_count": 14,
   "metadata": {},
   "outputs": [],
   "source": [
    "x0 = lambda_0/l_cut\n",
    "I_toinf = integral_toinf(a,x0)\n",
    "# x = np.logspace(np.log10(x0),1.2,num=200)\n",
    "# Pa_x = integral(a,x,x0)/I_toinf\n",
    "\n",
    "# lbin = np.linspace(-2,1.2,num=20)\n",
    "# hist, bin_edges = np.histogram(np.log10(ls),bins=lbin,density=False)\n",
    "# x = np.logspace(lbin[0]-np.log10(l_cut),lbin[-1]-np.log10(l_cut),num=len(lbin)) # for Pana\n",
    "# Pana = integral(a,x,x0)/I_toinf"
   ]
  },
  {
   "cell_type": "code",
   "execution_count": 15,
   "metadata": {},
   "outputs": [],
   "source": [
    "# %matplotlib inline\n",
    "# prex = '../temp/distf2N5_08211114_'\n",
    "# prex = '../temp/distf2N5_08211127_'\n",
    "\n",
    "T_z6 = ascii.read(prex+'BHatz6.txt', guess=False, delimiter=' ')\n",
    "M1, ls, L1, M1450_1 = T_z6['M1'], T_z6['ls'], T_z6['L1'], T_z6['M1450_1']"
   ]
  },
  {
   "cell_type": "code",
   "execution_count": 16,
   "metadata": {},
   "outputs": [
    {
     "data": {
      "text/plain": [
       "[<matplotlib.lines.Line2D at 0x11ebf7860>]"
      ]
     },
     "execution_count": 16,
     "metadata": {},
     "output_type": "execute_result"
    }
   ],
   "source": [
    "\n",
    "# write lambda histogram: lbin, hist_tot, hist_L46, Pana\n",
    "lbin = np.linspace(-2,1.2,num=20)\n",
    "hist, bin_edges = np.histogram(np.log10(ls),bins=lbin,density=False)\n",
    "x = np.logspace(lbin[0]-np.log10(l_cut),lbin[-1]-np.log10(l_cut),num=len(lbin)) # for Pana\n",
    "Pana = integral(a,x,x0)/I_toinf\n",
    "\n",
    "x = (lbin[:-1]+lbin[1:])/2.\n",
    "wid = lbin[1:]-lbin[:-1]\n",
    "plt.bar(x, hist/len(ls), width=wid,color='C'+str(0),alpha=0.5,label='total')\n",
    "plt.plot(x,Pana[1:]-Pana[:-1])"
   ]
  },
  {
   "cell_type": "code",
   "execution_count": 17,
   "metadata": {},
   "outputs": [
    {
     "name": "stdout",
     "output_type": "stream",
     "text": [
      "len(ls) after selection: 5234  /  100000\n",
      "len(ls) after selection: 480  /  100000\n"
     ]
    }
   ],
   "source": [
    "T_z6 = ascii.read(prex+'BHatz6.txt', guess=False, delimiter=' ')\n",
    "M1, ls, L1, M1450_1 = T_z6['M1'], T_z6['ls'], T_z6['L1'], T_z6['M1450_1']\n",
    "\n",
    "\n",
    "# # MF histogram comparing w/ Phi_easy \n",
    "# hist, bin_edges = np.histogram(M1,bins=abin_mf,density=False)\n",
    "# hist = hist*n_base*f_bsm*f_seed/N/dlog10M\n",
    "# ascii.write(Table([np.log10(M_BH),hist,MF(M_BH)]), \n",
    "# z6datapre+f_seedlabel+'Mdist_evolMFz{:d}_t{:d}_d{:d}'.format(int(z1),int(t_life/Myr),int(abs(logd_fit))),\n",
    "# names=['M_BH','hist','W10'],\n",
    "# formats={'M_BH':'10.2e','hist':'10.2e','W10':'10.2e'},\n",
    "# overwrite=True)\n",
    "\n",
    "# # LF histogram comparing w/ Phi_easy \n",
    "# hist, bin_edges = np.histogram(M1450_1,bins=bin_edg,density=False)\n",
    "# hist = hist*n_base*f_bsm*f_seed/N/bin_wid*1e9\n",
    "# hist_DO = hist/corr_U14D20(bin_cen)\n",
    "# ascii.write(Table([bin_cen,Phi_obs,hist_DO,hist]), \n",
    "# z6datapre+f_seedlabel+'Mdist_evolLFz{:d}_t{:d}_d{:d}'.format(int(z1),int(t_life/Myr),int(abs(logd_fit))),\n",
    "# names=['M1450','Phi_obs','hist_DO','hist'],\n",
    "# formats={'M1450':'10.2f','hist':'10.2e','hist_DO':'10.2e','Phi_obs':'10.2e'},\n",
    "# overwrite=True)\n",
    "\n",
    "# write lambda histogram: lbin, hist_tot, hist_L46, Pana\n",
    "lbin = np.linspace(-2,1.2,num=20)\n",
    "hist, bin_edges = np.histogram(np.log10(ls),bins=lbin,density=False)\n",
    "x = np.logspace(lbin[0]-np.log10(l_cut),lbin[-1]-np.log10(l_cut),num=len(lbin)) # for Pana\n",
    "Pana = integral(a,x,x0)/I_toinf\n",
    "\n",
    "for L_limit in [1e45,1e46]:\n",
    "    index = np.where(L_limit<L1)\n",
    "    M1_ = M1[index]; L1_ = L1[index]; ls_ = ls[index]\n",
    "    print('len(ls) after selection:',len(ls_),' / ',len(ls))\n",
    "    hist_, bin_edges = np.histogram(np.log10(ls_),bins=lbin,density=False)\n",
    "\n",
    "    strhist_ = 'hist_L%d'%(int(np.log10(L_limit)))\n",
    "    # lambda histogram file\n",
    "    ascii.write(Table([bin_edges[:-1],hist_/len(ls),hist/len(ls),Pana[1:]-Pana[:-1]]), \n",
    "    prex+strhist_+'.txt',\n",
    "    names=['log_l',strhist_,'hist_tot','ana'],\n",
    "    formats={'log_l':'10.2f',strhist_:'10.2e','hist_tot':'10.2e','ana':'10.2e'},\n",
    "    overwrite=True)"
   ]
  },
  {
   "cell_type": "code",
   "execution_count": 18,
   "metadata": {
    "scrolled": true
   },
   "outputs": [
    {
     "name": "stdout",
     "output_type": "stream",
     "text": [
      "sum(hist_tot)=1.00e+00,sum(hist_):5.23e-02\n",
      "False\n",
      "sum(hist_tot)=1.00e+00,sum(hist_):4.80e-03\n",
      "False\n"
     ]
    }
   ],
   "source": [
    "# plot z=6 λ dist.\n",
    "plt.figure(figsize=(10,7))\n",
    "x = (lbin[:-1]+lbin[1:])/2.\n",
    "wid = lbin[1:]-lbin[:-1]\n",
    "dlogl = lbin[1]-lbin[0]\n",
    "\n",
    "for L_limit in [1e45,1e46]:\n",
    "    strhist_ = 'hist_L%d'%(int(np.log10(L_limit)))\n",
    "    lbin = np.linspace(-2,1.2,num=20)\n",
    "    T_hist = ascii.read(prex+strhist_+'.txt', guess=False, delimiter=' ')\n",
    "    left_of_lbin, hist_, hist_tot, ana = T_hist['log_l'],T_hist[strhist_],T_hist['hist_tot'],T_hist['ana']\n",
    "    print('sum(hist_tot)={0:.2e},sum(hist_):{1:.2e}'.format(np.sum(hist_tot),np.sum(hist_)))\n",
    "    print(np.allclose(lbin[:-1],left_of_lbin))\n",
    "\n",
    "    if L_limit == 1e45:\n",
    "        plt.bar(x, 5*hist_/dlogl,   width=wid,color='C'+str(1),alpha=0.5,\n",
    "                label=r'$5\\times \\mathcal{p(\\lambda)}~ \\mathrm{(L>L_{45})}$',zorder=2)\n",
    "#                 label=r'$\\mathrm{5\\times \\frac{dP}{d\\ln \\lambda}~ ({L>10^{45} erg/s})}$',zorder=1)\n",
    "    if L_limit == 1e46:\n",
    "        plt.bar(x, 30*hist_/dlogl,   width=wid,color='C'+str(2),alpha=0.5,\n",
    "                label=r'$30\\times \\mathcal{p(\\lambda)}~ \\mathrm{(L>L_{46})}$',zorder=2)\n",
    "#                 label=r'$\\mathrm{30\\times \\frac{dP}{d\\ln \\lambda}~ ({L>10^{46} erg/s})}$',zorder=1)\n",
    "\n",
    "plt.bar(x, hist_tot/dlogl,width=wid,color='C'+str(0),alpha=0.5,\n",
    "#         label=r'$\\mathrm{\\frac{dP}{d\\log \\lambda} ~(all ~L)}$',zorder=0)\n",
    "        label=r'$\\mathcal{p(\\lambda)}$'+' (all L)',zorder=0)\n",
    "\n",
    "#         label='all L',zorder=0)\n",
    "# index = np.logical_and(1e7<x, x<1e10)\n",
    "plt.plot(x, ana/dlogl, '--',c='black',lw=2, label=r'$\\mathcal{p(\\lambda)}$'+' (analytic)')\n",
    "plt.tick_params(labelsize=fstick)\n",
    "plt.xlabel(r'$\\log\\lambda$',fontsize=fslabel)\n",
    "plt.ylabel(r'$\\mathcal{p(\\lambda)}=\\mathrm{d P/ d \\log \\lambda}$',fontsize=fslabel)\n",
    "# plt.ylabel(r'$\\mathrm{\\Phi}$'+' '+r'$\\mathrm{\\left(Mpc^{-3}dex^{-1}\\right)}$',fontsize=fslabel)\n",
    "plt.xlim(-2.3,1.9); \n",
    "plt.ylim(0,0.6)\n",
    "plt.legend(fontsize=fslegend,loc='best')\n",
    "plt.savefig('./l_hist.png', dpi=300, bbox_inches='tight')"
   ]
  },
  {
   "cell_type": "code",
   "execution_count": 19,
   "metadata": {},
   "outputs": [
    {
     "data": {
      "text/plain": [
       "(-10.24941018841286, -8.501985177572813)"
      ]
     },
     "execution_count": 19,
     "metadata": {},
     "output_type": "execute_result"
    }
   ],
   "source": [
    "M1450_Lbol(5e40), M1450_Lbol(1e40)"
   ]
  },
  {
   "cell_type": "markdown",
   "metadata": {},
   "source": [
    "# $f_{duty}$"
   ]
  },
  {
   "cell_type": "code",
   "execution_count": 20,
   "metadata": {},
   "outputs": [],
   "source": [
    "prex = '../temp/distf2N5_08211127_'"
   ]
  },
  {
   "cell_type": "code",
   "execution_count": 21,
   "metadata": {},
   "outputs": [
    {
     "name": "stdout",
     "output_type": "stream",
     "text": [
      "14102\n"
     ]
    }
   ],
   "source": [
    "\n",
    "T_M = np.loadtxt(prex+'Mevol.txt') # each line a BH growth track; all end with M>1e8\n",
    "T_l = np.loadtxt(prex+'levol.txt') # each line a BH growth track; all end with M>1e8\n",
    "T_t = np.loadtxt(prex+'tevol.txt') # each line a lambda track; all end with M>1e8\n",
    "T_z = np.loadtxt(prex+'zevol.txt') # each line a lambda track; all end with M>1e8\n",
    "print(len(T_M))\n",
    "\n",
    "M1 = T_M.transpose()[-1]"
   ]
  },
  {
   "cell_type": "code",
   "execution_count": 22,
   "metadata": {},
   "outputs": [
    {
     "name": "stdout",
     "output_type": "stream",
     "text": [
      "f2 duty cycle l>1.00 from z=10: 0.118\n"
     ]
    }
   ],
   "source": [
    "# f_duty (λ>1) in growth history, v.s. final M_BH\n",
    "plt.figure(figsize=(10,10),dpi=400)\n",
    "f_duty = np.zeros(len(T_M))\n",
    "f_2 = 0\n",
    "t_start = t_from_z(10.)/Myr\n",
    "for i in range(len(T_M)):\n",
    "    len_series = np.argmax(T_M[i]) + 1\n",
    "    ts = np.arange(tz,t0-t_life,-t_life)[:len_series]\n",
    "    l1s = T_l[i][:len_series]\n",
    "    # f_duty: Δt of λ>1 cycles, devided by total Δt\n",
    "    l_crit = 1.\n",
    "    # l_crit = l_cut\n",
    "    f_duty[i] = t_life*np.sum(l1s>l_crit)/(ts[0]-ts[-1])\n",
    "    f_2 += t_life * np.sum(l1s[ts>t_start]>l_crit)/(tz-t_start)\n",
    "print(f_seedlabel+' duty cycle l>{:.2f} from z=10: {:.3f}'.format(l_crit,f_2/len(T_M)))\n"
   ]
  },
  {
   "cell_type": "code",
   "execution_count": 23,
   "metadata": {},
   "outputs": [],
   "source": [
    "\n",
    "plt.scatter(M1,f_duty)\n",
    "plt.xscale('log')\n",
    "# plt.ylim(1e2,1e10)\n",
    "plt.grid(True)\n",
    "plt.xlabel(r'$\\mathrm{M_{BH}~(M_\\odot)}$',fontsize=fslabel)\n",
    "plt.ylabel(r'$\\mathrm{f_{duty}~(\\lambda>1)}$',fontsize=fslabel)\n",
    "# plt.legend(loc='best',fontsize=fslabel)\n",
    "plt.xticks(fontsize=fstick);plt.yticks(fontsize=fstick)\n",
    "# plt.savefig('./f_dutyM%d.png'%(int(np.log10(M_low))), dpi=300, bbox_inches='tight')\n",
    "plt.savefig('./f_duty.png', dpi=300, bbox_inches='tight')\n",
    "\n"
   ]
  },
  {
   "cell_type": "code",
   "execution_count": 24,
   "metadata": {},
   "outputs": [
    {
     "name": "stdout",
     "output_type": "stream",
     "text": [
      "10000000.0\n",
      "1.0e+07 0.12 55.1\n",
      "100000000.0\n",
      "1.0e+08 0.15 69.0\n",
      "1000000000.0\n",
      "1.0e+09 0.19 85.4\n"
     ]
    }
   ],
   "source": [
    "for M_low in [1e7,1e8,1e9]:\n",
    "    print(M_low)\n",
    "    f_mean = np.mean(f_duty[M1>M_low])\n",
    "    print('%.1e'%M_low, '%.2f'%f_mean, '%.1f'%(f_mean*450))"
   ]
  },
  {
   "cell_type": "code",
   "execution_count": 25,
   "metadata": {},
   "outputs": [
    {
     "data": {
      "text/plain": [
       "-449.46819954646895"
      ]
     },
     "execution_count": 25,
     "metadata": {},
     "output_type": "execute_result"
    }
   ],
   "source": [
    "(t_from_z(10)-t_from_z(6))/Myr"
   ]
  },
  {
   "cell_type": "code",
   "execution_count": 26,
   "metadata": {},
   "outputs": [],
   "source": [
    "label = '\\mathdefault{\\lambda}'"
   ]
  }
 ],
 "metadata": {
  "kernelspec": {
   "display_name": "Python 3",
   "language": "python",
   "name": "python3"
  },
  "language_info": {
   "codemirror_mode": {
    "name": "ipython",
    "version": 3
   },
   "file_extension": ".py",
   "mimetype": "text/x-python",
   "name": "python",
   "nbconvert_exporter": "python",
   "pygments_lexer": "ipython3",
   "version": "3.7.3"
  }
 },
 "nbformat": 4,
 "nbformat_minor": 2
}
