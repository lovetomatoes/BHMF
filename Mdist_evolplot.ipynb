{
 "cells": [
  {
   "cell_type": "code",
   "execution_count": 115,
   "metadata": {},
   "outputs": [],
   "source": [
    "from PYmodule import *\n",
    "from PYmodule.l_intg import *\n",
    "# analyse BHMF, ERDF from sampling in Mdist_evol\n",
    "# later plot hist file from Mdist_evol directly \n",
    "prex = '../4p/distf2N5_06231122_'\n",
    "prex = '../4p/distf2N4_06221827_'\n",
    "\n",
    "T_seed = Ts[0][0]\n",
    "tz = t_from_z(6.)/Myr\n",
    "t_life = 19.6 # f_seed = 0.1\n",
    "t0 = np.min(T_seed['t_col']/Myr)\n",
    "# print(tz,t_life,t0);exit(0)\n",
    "t_life, logd_fit, l_cut, a = 18.7555167,  -1.2574505,   0.87372563,  0.20389703; f_seed = 0.01\n",
    "\n",
    "# z=6 BH mass, λ, L_bol\n",
    "T_z6 = ascii.read(prex+'BHatz6.txt', guess=False, delimiter=' ')\n",
    "\n",
    "M1, ls, L1 = T_z6['M1'], T_z6['ls'], T_z6['L1']\n"
   ]
  },
  {
   "cell_type": "code",
   "execution_count": 116,
   "metadata": {},
   "outputs": [],
   "source": [
    "x0 = lambda_0/l_cut\n",
    "I_toinf = integral_toinf(a,x0)\n",
    "x = np.logspace(np.log10(x0),1.2,num=200)\n",
    "Pa_x = integral(a,x,x0)/I_toinf\n",
    "\n",
    "lbin = np.linspace(-2,1.2,num=20)\n",
    "hist, bin_edges = np.histogram(np.log10(ls),bins=lbin,density=False)\n",
    "x = np.logspace(lbin[0]-np.log10(l_cut),lbin[-1]-np.log10(l_cut),num=len(lbin)) # for Pana\n",
    "Pana = integral(a,x,x0)/I_toinf\n",
    "\n",
    "SMl1 = ls[M1>1e9] # super-massive BHs >1e9\n",
    "\n",
    "# T_evol = ascii.read(prex+'tN_evol.dat', guess=False, delimiter=' ')\n",
    "# zs, ts, N_bri = T_evol['zs'],T_evol['ts'],T_evol['N_bri']\n",
    "\n",
    "T_M = np.loadtxt(prex+'Mevol.txt') # each line a BH growth track; all end with M>1e8\n",
    "T_l = np.loadtxt(prex+'levol.txt') # each line a lambda track; all end with M>1e8"
   ]
  },
  {
   "cell_type": "markdown",
   "metadata": {},
   "source": [
    "# growth tracks for all BHs(>1e8)"
   ]
  },
  {
   "cell_type": "code",
   "execution_count": 104,
   "metadata": {},
   "outputs": [
    {
     "name": "stderr",
     "output_type": "stream",
     "text": [
      "/anaconda3/lib/python3.7/site-packages/ipykernel_launcher.py:1: RuntimeWarning: More than 20 figures have been opened. Figures created through the pyplot interface (`matplotlib.pyplot.figure`) are retained until explicitly closed and may consume too much memory. (To control this warning, see the rcParam `figure.max_open_warning`).\n",
      "  \"\"\"Entry point for launching an IPython kernel.\n"
     ]
    }
   ],
   "source": [
    "plt.figure(figsize=(10,10),dpi=400)\n",
    "for i in range(len(T_M)):\n",
    "#     print(i)\n",
    "    # T_M[i] finally stay at final mass with dt=0; extract growing tracks\n",
    "    len_series = min(np.argmax(T_M[i]) + 1, len(T_M[i]))\n",
    "#     len_series = np.argmax(T_M[i]) + 1\n",
    "#     print(i, len_series)\n",
    "    # checkpoint series, back to t_seed (ideal)\n",
    "    ts = np.arange(tz,t0-t_life,-t_life)\n",
    "#     print(len(ts))\n",
    "    ts = ts[:len_series]\n",
    "    zs = z_tH(ts)[::-1]\n",
    "    plt.plot(zs,T_M[i][:len_series], c='grey', alpha=0.5)\n",
    "\n",
    "M1 = T_M.transpose()[-1]\n",
    "# print('M1',M1,T_M.shape,'len zs',len(zs))\n",
    "# i = np.argmax(M1); print('max M1 = %.1e'%M1[i])\n",
    "# plt.plot(zs,T_M[i], '--',c='black',lw=2)\n"
   ]
  },
  {
   "cell_type": "code",
   "execution_count": 105,
   "metadata": {},
   "outputs": [],
   "source": [
    "def tick_function(X):\n",
    "    V = 5.38*10**8*((1+X)/10)**(-3/2)/1e6\n",
    "    return [\"%d\" % z for z in V]"
   ]
  },
  {
   "cell_type": "code",
   "execution_count": 106,
   "metadata": {
    "scrolled": true
   },
   "outputs": [
    {
     "name": "stderr",
     "output_type": "stream",
     "text": [
      "/anaconda3/lib/python3.7/site-packages/ipykernel_launcher.py:2: RuntimeWarning: More than 20 figures have been opened. Figures created through the pyplot interface (`matplotlib.pyplot.figure`) are retained until explicitly closed and may consume too much memory. (To control this warning, see the rcParam `figure.max_open_warning`).\n",
      "  \n"
     ]
    },
    {
     "name": "stdout",
     "output_type": "stream",
     "text": [
      "number of >1e9 MBH: 69\n"
     ]
    }
   ],
   "source": [
    "# growth tracks for all BHs(>1e8)\n",
    "fig, ax_f = plt.subplots(figsize=(10,10))\n",
    "for i in range(len(T_M)):\n",
    "    # T_M[i] finally stay at final mass with dt=0; extract growing tracks\n",
    "    len_series = np.argmax(T_M[i]) + 1\n",
    "    # checkpoint series, back to t_seed (ideal)\n",
    "    ts = np.arange(tz,t0-t_life,-t_life)[:len_series]\n",
    "    zs = z_tH(ts)[::-1]\n",
    "    plt.plot(zs,T_M[i][:len_series], c='grey', alpha=0.5)\n",
    "\n",
    "M1 = T_M.transpose()[-1]\n",
    "# print('M1',M1,T_M.shape,'len zs',len(zs))\n",
    "# i = np.argmax(M1); print('max M1 = %.1e'%M1[i])\n",
    "# plt.plot(zs,T_M[i], '--',c='black',lw=2)\n",
    "\n",
    "SMM1 = M1[M1>1e9]\n",
    "print('number of >1e9 MBH:',sum(M1>1e9))\n",
    "# same as prev. specially for >1e9 SMBHs\n",
    "for i in range(len(SMM1)):\n",
    "    len_series = np.argmax(T_M[M1>1e9][i]) + 1\n",
    "    ts = np.arange(tz,t0-t_life,-t_life)[:len_series]\n",
    "    zs = z_tH(ts)[::-1]\n",
    "    ts = ts[::-1]\n",
    "    plt.plot(zs,T_M[M1>1e9][i][:len_series],c='C%d'%i,label='episodic growth'if i==0 else'_')\n",
    "    plt.plot(zs,M1M0_e(SMM1[i],-(ts[-1]-ts)*Myr,SMl1[i]),':',c='C%d'%i,label=r'$\\lambda=\\lambda(z=6)$'if i==0 else'_')\n",
    "    plt.plot(zs,M1M0_e(SMM1[i],-(ts[-1]-ts)*Myr,1),'--',c='C%d'%i,label=r'$\\lambda=1$'if i==0 else'_')\n",
    "    plt.scatter(6,SMM1[i],marker='D',s=30,c='C%d'%i)\n",
    "\n",
    "# plt.yscale('log')\n",
    "# plt.xlim(np.max(zs),np.min(zs))\n",
    "# plt.xlim(30,5.8)\n",
    "# plt.ylim(1e2,1e10)\n",
    "# plt.grid(True)\n",
    "# plt.xlabel(r'$\\mathrm{z}$',fontsize=fslabel)\n",
    "# plt.ylabel(r'$\\mathrm{M_{BH}~(M_\\odot)}$',fontsize=fslabel)\n",
    "# # plt.legend(loc='best',fontsize=fslabel)\n",
    "# plt.xticks(fontsize=fstick);plt.yticks(fontsize=fstick)\n",
    "# plt.savefig(prex+'Mevol.png', dpi=300, bbox_inches='tight')\n"
   ]
  },
  {
   "cell_type": "code",
   "execution_count": 114,
   "metadata": {},
   "outputs": [
    {
     "name": "stdout",
     "output_type": "stream",
     "text": [
      "22\n",
      "0.3047\n",
      "1.7e+05\n",
      "463.42184782836443 670.3750701848198 912.8900473748333\n"
     ]
    }
   ],
   "source": [
    "for i in range(len(SMM1)):\n",
    "    len_series = np.argmax(T_M[M1>1e9][i]) + 1\n",
    "    ts = np.arange(tz,t0-t_life,-t_life)[:len_series]\n",
    "    zs = z_tH(ts)[::-1]\n",
    "    ts = ts[::-1]\n",
    "    if T_M[M1>1e9][i][:len_series][np.argmax(zs<7.7)]>2.4e9:\n",
    "        print( i)\n",
    "        print(SMl1[i])\n",
    "        print('%.1e'%(T_M[M1>1e9][i][:len_series][0]))\n",
    "#     print('%.1e'%(T_M[M1>1e9][i][:len_series][np.argmax(zs<7.7)]))\n",
    "#     plt.plot(zs,T_M[M1>1e9][i][:len_series],c='C%d'%i,label='episodic growth'if i==0 else'_')\n",
    "#     plt.plot(zs,M1M0_e(SMM1[i],-(ts[-1]-ts)*Myr,SMl1[i]),':',c='C%d'%i,label=r'$\\lambda=\\lambda(z=6)$'if i==0 else'_')\n",
    "#     plt.plot(zs,M1M0_e(SMM1[i],-(ts[-1]-ts)*Myr,1),'--',c='C%d'%i,label=r'$\\lambda=1$'if i==0 else'_')\n",
    "#     plt.scatter(6,SMM1[i],marker='D',s=30,c='C%d'%i)\n",
    "print(t_from_z(10)/Myr, t_from_z(7.6)/Myr, t_from_z(6)/Myr)"
   ]
  },
  {
   "cell_type": "code",
   "execution_count": 90,
   "metadata": {},
   "outputs": [],
   "source": [
    "ax_f.legend(loc=1,fontsize=18,ncol=1)  \n",
    "ax_f.set_yscale(\"log\")\n",
    "#plt.xscale(\"log\")\n",
    "ax_f.set_ylim(5e0,3e11)\n",
    "ax_f.set_xlim(30,5.8)\n",
    "\n",
    "ax_f.set_ylabel(r'$\\mathrm{M_{BH}~(M_\\odot)}$',fontsize=fslabel)\n",
    "ax_f.set_xlabel('redshift',fontsize=fslabel)\n",
    "ax_f.tick_params(labelsize = fslabel)\n",
    "\n",
    "ax2 = ax_f.twiny()\n",
    "new_tick_locations = np.array([29.70,13.76,6.096][::-1])\n",
    "\n",
    "\n",
    "ax_f.grid(b=True,alpha=0.3)\n",
    "ax2.set_xlim(ax_f.get_xlim())\n",
    "ax2.set_xticks(new_tick_locations)\n",
    "ax2.set_xticklabels(tick_function(new_tick_locations))\n",
    "ax2.set_xlabel(r\"Cosmic age (Myr)\",fontsize=fslabel)\n",
    "#ax2.set_yticks([500,50])\n",
    "\n",
    "\n",
    "\n",
    "#ax_f.set_xlim(0, 100)\n",
    "# ax_f.set_title('第二坐标', size=14)\n",
    "\n",
    "ax2.tick_params(labelsize = fslabel)\n",
    "\n",
    "#ax.annotate(\"-1\",xy=(300,1e-8),fontsize=21, weight='bold', color='k')\n",
    "plt.savefig('Mevol.png', dpi=300, bbox_inches='tight')"
   ]
  },
  {
   "cell_type": "markdown",
   "metadata": {},
   "source": [
    "# $\\lambda$ dist. at z=6 for all BHs(>1e8) \\& SMBHs"
   ]
  },
  {
   "cell_type": "code",
   "execution_count": 87,
   "metadata": {},
   "outputs": [
    {
     "name": "stdout",
     "output_type": "stream",
     "text": [
      "len(ls) after selection: 558  /  100000\n",
      "../4p/distf2N5_06231122_hist_L46.txt\n"
     ]
    }
   ],
   "source": [
    "# write lambda histogram: lbin, hist_tot, hist_L46, Pana\n",
    "lbin = np.linspace(-2,1.2,num=20)\n",
    "hist, bin_edges = np.histogram(np.log10(ls),bins=lbin,density=False)\n",
    "x = np.logspace(lbin[0]-np.log10(l_cut),lbin[-1]-np.log10(l_cut),num=len(lbin)) # for Pana\n",
    "Pana = integral(a,x,x0)/I_toinf\n",
    "\n",
    "L_limit = 1e46\n",
    "index = np.where(L_limit<L1)\n",
    "M1_ = M1[index]; L1_ = L1[index]; ls_ = ls[index]\n",
    "print('len(ls) after selection:',len(ls_),' / ',len(ls))\n",
    "# print('len of all L1',len(L1))\n",
    "hist_, bin_edges = np.histogram(np.log10(ls_),bins=lbin,density=False)\n",
    "\n",
    "strhist_ = 'hist_L%d'%(int(np.log10(L_limit)))\n",
    "# lambda histogram file\n",
    "ascii.write(Table([bin_edges[:-1],hist_/len(ls),hist/len(ls),Pana[1:]-Pana[:-1]]), \n",
    "prex+strhist_+'.txt',\n",
    "names=['log_l',strhist_,'hist_tot','ana'],\n",
    "formats={'log_l':'10.2f',strhist_:'10.2e','hist_tot':'10.2e','ana':'10.2e'},\n",
    "overwrite=True)\n",
    "print(prex+strhist_+'.txt')"
   ]
  },
  {
   "cell_type": "code",
   "execution_count": 89,
   "metadata": {},
   "outputs": [
    {
     "name": "stdout",
     "output_type": "stream",
     "text": [
      "sum(hist_tot)=1.00e+00,sum(hist_):5.94e-02\n"
     ]
    },
    {
     "name": "stderr",
     "output_type": "stream",
     "text": [
      "/anaconda3/lib/python3.7/site-packages/ipykernel_launcher.py:10: RuntimeWarning: More than 20 figures have been opened. Figures created through the pyplot interface (`matplotlib.pyplot.figure`) are retained until explicitly closed and may consume too much memory. (To control this warning, see the rcParam `figure.max_open_warning`).\n",
      "  # Remove the CWD from sys.path while we load stuff.\n"
     ]
    }
   ],
   "source": [
    "# plot z=6 λ dist.\n",
    "L_limit = 1e45\n",
    "strhist_ = 'hist_L%d'%(int(np.log10(L_limit)))\n",
    "lbin = np.linspace(-2,1.2,num=20)\n",
    "T_hist = ascii.read(prex+strhist_+'.txt', guess=False, delimiter=' ')\n",
    "left_of_lbin, hist_, hist_tot, ana = T_hist['log_l'],T_hist[strhist_],T_hist['hist_tot'],T_hist['ana']\n",
    "\n",
    "print('sum(hist_tot)={0:.2e},sum(hist_):{1:.2e}'.format(np.sum(hist_tot),np.sum(hist_)))\n",
    "\n",
    "plt.figure(figsize=(10,9))\n",
    "x = (lbin[:-1]+lbin[1:])/2.\n",
    "wid = lbin[1:]-lbin[:-1]\n",
    "plt.bar(x, hist_tot,width=wid,color='C'+str(0),alpha=0.5,label='total')\n",
    "plt.bar(x, 5*hist_,   width=wid,color='C'+str(1),alpha=0.5,label=r'$L>10^{45}$ erg/s')\n",
    "# plt.bar(x, hist_,   width=wid,color='C'+str(1),alpha=0.5,label=r'$L>10^{46}$ erg/s')\n",
    "# plt.yscale('log'); plt.ylim(bottom=1e-5)\n",
    "\n",
    "# plot z=6 λ dist.\n",
    "L_limit = 1e46\n",
    "strhist_ = 'hist_L%d'%(int(np.log10(L_limit)))\n",
    "lbin = np.linspace(-2,1.2,num=20)\n",
    "T_hist = ascii.read(prex+strhist_+'.txt', guess=False, delimiter=' ')\n",
    "left_of_lbin, hist_, hist_tot, ana = T_hist['log_l'],T_hist[strhist_],T_hist['hist_tot'],T_hist['ana']\n",
    "plt.bar(x, 50*hist_,   width=wid,color='C'+str(2),alpha=0.5,label=r'$L>10^{46}$ erg/s')\n",
    "\n",
    "# index = np.logical_and(1e7<x, x<1e10)\n",
    "plt.plot(x, ana, '--',c='black',lw=2, label=r'$\\mathrm{P(\\lambda)}$')\n",
    "plt.tick_params(labelsize=fstick)\n",
    "plt.xlabel(r'$\\log\\lambda$',fontsize=fslabel)\n",
    "# plt.ylabel(r'$\\mathrm{\\Phi}$'+' '+r'$\\mathrm{\\left(Mpc^{-3}dex^{-1}\\right)}$',fontsize=fslabel)\n",
    "# plt.xlim(1e2,1e10); plt.ylim(1e-10,1e-2)\n",
    "plt.legend(fontsize=fslegend,loc='best')\n",
    "plt.savefig(prex+'l_hist.png', dpi=300, bbox_inches='tight')"
   ]
  },
  {
   "cell_type": "code",
   "execution_count": null,
   "metadata": {},
   "outputs": [],
   "source": []
  }
 ],
 "metadata": {
  "kernelspec": {
   "display_name": "Python 3",
   "language": "python",
   "name": "python3"
  },
  "language_info": {
   "codemirror_mode": {
    "name": "ipython",
    "version": 3
   },
   "file_extension": ".py",
   "mimetype": "text/x-python",
   "name": "python",
   "nbconvert_exporter": "python",
   "pygments_lexer": "ipython3",
   "version": "3.7.3"
  }
 },
 "nbformat": 4,
 "nbformat_minor": 2
}
