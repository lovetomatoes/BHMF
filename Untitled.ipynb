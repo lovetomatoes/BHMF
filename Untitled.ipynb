{
 "cells": [
  {
   "cell_type": "code",
   "execution_count": 3,
   "metadata": {},
   "outputs": [],
   "source": [
    "from PYmodule import *\n"
   ]
  },
  {
   "cell_type": "code",
   "execution_count": 33,
   "metadata": {},
   "outputs": [
    {
     "data": {
      "image/png": "[encoded data removed]",
      "text/plain": [
       "<Figure size 432x288 with 1 Axes>"
      ]
     },
     "metadata": {
      "needs_background": "light"
     },
     "output_type": "display_data"
    }
   ],
   "source": [
    "import numpy as np\n",
    "from matplotlib import pyplot as plt\n",
    "from matplotlib.ticker import MultipleLocator\n",
    "%matplotlib inline\n",
    "a = np.arange(100)\n",
    "ml = MultipleLocator(5)\n",
    "figl, axl = plt.subplots()\n",
    "axl.plot(a,a)\n",
    "axl.yaxis.set_minor_locator(ml)\n",
    "# plt.axes().yaxis.set_minor_locator(ml)\n",
    "# plt.show()"
   ]
  },
  {
   "cell_type": "code",
   "execution_count": 47,
   "metadata": {},
   "outputs": [
    {
     "name": "stdout",
     "output_type": "stream",
     "text": [
      "4 1\n"
     ]
    }
   ],
   "source": [
    "zs = np.arange(6,21)\n",
    "# np.any(np.logical_and(1<a,a<4))\n",
    "z = 9\n",
    "print(z//2,z%2)"
   ]
  },
  {
   "cell_type": "code",
   "execution_count": 45,
   "metadata": {},
   "outputs": [
    {
     "name": "stdout",
     "output_type": "stream",
     "text": [
      "ls: ../az_8_LF_data/z8_Donnan.dat: No such file or directory\r\n"
     ]
    }
   ],
   "source": [
    "!ls ../az_8_LF_data/z8_Donnan.dat"
   ]
  },
  {
   "cell_type": "code",
   "execution_count": 46,
   "metadata": {},
   "outputs": [
    {
     "name": "stdout",
     "output_type": "stream",
     "text": [
      "Donnan\n"
     ]
    }
   ],
   "source": [
    "obslabels = ['Donnan','Bouwens','Bowler','McLure','Stefanon'] \n",
    "obslabel = 'Donnan'; iobs = obslabels.index(obslabel); print(obslabel)\n",
    "T_data = ascii.read('../z_8_LF_data/z8_'+obslabel+'.dat',guess=False,delimiter=' ',)"
   ]
  },
  {
   "cell_type": "code",
   "execution_count": 40,
   "metadata": {},
   "outputs": [
    {
     "ename": "InconsistentTableError",
     "evalue": "Number of header columns (5) inconsistent with data columns in data line 1",
     "output_type": "error",
     "traceback": [
      "\u001b[0;31m---------------------------------------------------------------------------\u001b[0m",
      "\u001b[0;31mInconsistentTableError\u001b[0m                    Traceback (most recent call last)",
      "\u001b[0;32m<ipython-input-40-cdbcd8f26ab5>\u001b[0m in \u001b[0;36m<module>\u001b[0;34m\u001b[0m\n\u001b[1;32m      4\u001b[0m \u001b[0mobslabel\u001b[0m\u001b[0;34m=\u001b[0m\u001b[0;34m'Donnan'\u001b[0m\u001b[0;34m\u001b[0m\u001b[0;34m\u001b[0m\u001b[0m\n\u001b[1;32m      5\u001b[0m \u001b[0;31m# obslabel='Stefanon'\u001b[0m\u001b[0;34m\u001b[0m\u001b[0;34m\u001b[0m\u001b[0;34m\u001b[0m\u001b[0m\n\u001b[0;32m----> 6\u001b[0;31m \u001b[0mT_data\u001b[0m \u001b[0;34m=\u001b[0m \u001b[0mascii\u001b[0m\u001b[0;34m.\u001b[0m\u001b[0mread\u001b[0m\u001b[0;34m(\u001b[0m\u001b[0;34m'../z_8_LF_data/z8_'\u001b[0m\u001b[0;34m+\u001b[0m\u001b[0mobslabel\u001b[0m\u001b[0;34m+\u001b[0m\u001b[0;34m'.dat'\u001b[0m\u001b[0;34m,\u001b[0m\u001b[0mguess\u001b[0m\u001b[0;34m=\u001b[0m\u001b[0;32mFalse\u001b[0m\u001b[0;34m,\u001b[0m\u001b[0mdelimiter\u001b[0m\u001b[0;34m=\u001b[0m\u001b[0;34m' '\u001b[0m\u001b[0;34m,\u001b[0m\u001b[0;34m)\u001b[0m\u001b[0;34m\u001b[0m\u001b[0;34m\u001b[0m\u001b[0m\n\u001b[0m\u001b[1;32m      7\u001b[0m \u001b[0mprint\u001b[0m\u001b[0;34m(\u001b[0m\u001b[0mobslabel\u001b[0m\u001b[0;34m,\u001b[0m\u001b[0mT_data\u001b[0m\u001b[0;34m.\u001b[0m\u001b[0minfo\u001b[0m\u001b[0;34m)\u001b[0m\u001b[0;34m\u001b[0m\u001b[0;34m\u001b[0m\u001b[0m\n",
      "\u001b[0;32m/anaconda3/lib/python3.7/site-packages/astropy/io/ascii/ui.py\u001b[0m in \u001b[0;36mread\u001b[0;34m(table, guess, **kwargs)\u001b[0m\n\u001b[1;32m    355\u001b[0m             \u001b[0mfast_reader_rdr\u001b[0m \u001b[0;34m=\u001b[0m \u001b[0mget_reader\u001b[0m\u001b[0;34m(\u001b[0m\u001b[0;34m**\u001b[0m\u001b[0mfast_kwargs\u001b[0m\u001b[0;34m)\u001b[0m\u001b[0;34m\u001b[0m\u001b[0;34m\u001b[0m\u001b[0m\n\u001b[1;32m    356\u001b[0m             \u001b[0;32mtry\u001b[0m\u001b[0;34m:\u001b[0m\u001b[0;34m\u001b[0m\u001b[0;34m\u001b[0m\u001b[0m\n\u001b[0;32m--> 357\u001b[0;31m                 \u001b[0mdat\u001b[0m \u001b[0;34m=\u001b[0m \u001b[0mfast_reader_rdr\u001b[0m\u001b[0;34m.\u001b[0m\u001b[0mread\u001b[0m\u001b[0;34m(\u001b[0m\u001b[0mtable\u001b[0m\u001b[0;34m)\u001b[0m\u001b[0;34m\u001b[0m\u001b[0;34m\u001b[0m\u001b[0m\n\u001b[0m\u001b[1;32m    358\u001b[0m                 _read_trace.append({'kwargs': copy.deepcopy(fast_kwargs),\n\u001b[1;32m    359\u001b[0m                                     \u001b[0;34m'Reader'\u001b[0m\u001b[0;34m:\u001b[0m \u001b[0mfast_reader_rdr\u001b[0m\u001b[0;34m.\u001b[0m\u001b[0m__class__\u001b[0m\u001b[0;34m,\u001b[0m\u001b[0;34m\u001b[0m\u001b[0;34m\u001b[0m\u001b[0m\n",
      "\u001b[0;32m/anaconda3/lib/python3.7/site-packages/astropy/io/ascii/fastbasic.py\u001b[0m in \u001b[0;36mread\u001b[0;34m(self, table)\u001b[0m\n\u001b[1;32m    126\u001b[0m \u001b[0;34m\u001b[0m\u001b[0m\n\u001b[1;32m    127\u001b[0m         \u001b[0;32mwith\u001b[0m \u001b[0m_set_locale\u001b[0m\u001b[0;34m(\u001b[0m\u001b[0;34m'C'\u001b[0m\u001b[0;34m)\u001b[0m\u001b[0;34m:\u001b[0m\u001b[0;34m\u001b[0m\u001b[0;34m\u001b[0m\u001b[0m\n\u001b[0;32m--> 128\u001b[0;31m             \u001b[0mdata\u001b[0m\u001b[0;34m,\u001b[0m \u001b[0mcomments\u001b[0m \u001b[0;34m=\u001b[0m \u001b[0mself\u001b[0m\u001b[0;34m.\u001b[0m\u001b[0mengine\u001b[0m\u001b[0;34m.\u001b[0m\u001b[0mread\u001b[0m\u001b[0;34m(\u001b[0m\u001b[0mtry_int\u001b[0m\u001b[0;34m,\u001b[0m \u001b[0mtry_float\u001b[0m\u001b[0;34m,\u001b[0m \u001b[0mtry_string\u001b[0m\u001b[0;34m)\u001b[0m\u001b[0;34m\u001b[0m\u001b[0;34m\u001b[0m\u001b[0m\n\u001b[0m\u001b[1;32m    129\u001b[0m         \u001b[0mout\u001b[0m \u001b[0;34m=\u001b[0m \u001b[0mself\u001b[0m\u001b[0;34m.\u001b[0m\u001b[0mmake_table\u001b[0m\u001b[0;34m(\u001b[0m\u001b[0mdata\u001b[0m\u001b[0;34m,\u001b[0m \u001b[0mcomments\u001b[0m\u001b[0;34m)\u001b[0m\u001b[0;34m\u001b[0m\u001b[0;34m\u001b[0m\u001b[0m\n\u001b[1;32m    130\u001b[0m \u001b[0;34m\u001b[0m\u001b[0m\n",
      "\u001b[0;32mastropy/io/ascii/cparser.pyx\u001b[0m in \u001b[0;36mastropy.io.ascii.cparser.CParser.read\u001b[0;34m()\u001b[0m\n",
      "\u001b[0;31mInconsistentTableError\u001b[0m: Number of header columns (5) inconsistent with data columns in data line 1"
     ]
    }
   ],
   "source": [
    "# for obslabel in ['Donnan','Bowler','Harikane','Morishita','Stefanon']:\n",
    "#     T_data = ascii.read('../z_9_LF_data/z9_'+obslabel+'.dat',guess=False,delimiter=' ',)\n",
    "#     print(obslabel,T_data.info)\n",
    "obslabel='Donnan'\n",
    "# obslabel='Stefanon'\n",
    "T_data = ascii.read('../z_8_LF_data/z8_'+obslabel+'.dat',guess=False,delimiter=' ',)\n",
    "print(obslabel,T_data.info)\n"
   ]
  },
  {
   "cell_type": "code",
   "execution_count": 15,
   "metadata": {},
   "outputs": [],
   "source": [
    "labels = ['LSST_deep','Roman_wide','Euclid_wide']\n",
    "\n",
    "\n",
    "title = ['z','LSST_deep_depth','LSST_deep_Vc^-1','Roman_wide_depth','Roman_wide_Vc^-1','Euclid_wide_depth','Euclid_wide_Vc^-1',]\n",
    "\n",
    "with open(\"surveys.txt\",'w') as f:\n",
    "    f.write('# depth in <mag>, Vc^-1 in <Gpc^-3>\\n')\n",
    "    np.savetxt(f,[title], fmt='%s')\n",
    "    for z in zs:\n",
    "        depth = [M_absolute(Depth[labels[i]],z) for i in range(3)]\n",
    "        Vc_cover = [Vc(Area[labels[i]],z,1)/1e9 for i in range(3)]\n",
    "        f.write('{:d}  {:.2f}  {:.2e}  {:.2f}  {:.2e}  {:.2f}  {:.2e}\\n'.format(z,depth[0],Vc_cover[0],depth[1],Vc_cover[1],depth[2],Vc_cover[2]))\n",
    "#         np.savetxt(f,dep)\n",
    "#         for ilabel in range(3):\n",
    "#             label = labels[ilabel]\n",
    "#             deep_mag = M_absolute(Depth[label],z)\n",
    "#             Vc_cover = Vc(Area[label],z,1)/1e9\n",
    "        \n",
    "\n",
    "    \n",
    "    "
   ]
  },
  {
   "cell_type": "code",
   "execution_count": 17,
   "metadata": {},
   "outputs": [
    {
     "name": "stdout",
     "output_type": "stream",
     "text": [
      "13.699284142659158 11.13399171247274 9.456757069564262 8.259968754861093 7.355613216966438\n"
     ]
    }
   ],
   "source": [
    "print(z_tH(300),z_tH(400),z_tH(500),z_tH(600),z_tH(700))"
   ]
  },
  {
   "cell_type": "code",
   "execution_count": 20,
   "metadata": {},
   "outputs": [
    {
     "name": "stdout",
     "output_type": "stream",
     "text": [
      "[912.89004737 747.18914136 626.183714   534.64502788 463.42184783\n",
      " 406.71825282]\n"
     ]
    }
   ],
   "source": [
    "print(np.array([ t_from_z(6), t_from_z(7), t_from_z(8), t_from_z(9), t_from_z(10), t_from_z(11)])/Myr )"
   ]
  },
  {
   "cell_type": "code",
   "execution_count": 11,
   "metadata": {},
   "outputs": [],
   "source": [
    "%matplotlib  inline"
   ]
  },
  {
   "cell_type": "code",
   "execution_count": 12,
   "metadata": {},
   "outputs": [
    {
     "data": {
      "image/png": "[encoded data removed]",
      "text/plain": [
       "<Figure size 432x288 with 1 Axes>"
      ]
     },
     "metadata": {
      "needs_background": "light"
     },
     "output_type": "display_data"
    }
   ],
   "source": [
    "plt.plot(a,a,linewidth=lw)\n",
    "plt.show()"
   ]
  },
  {
   "cell_type": "code",
   "execution_count": 5,
   "metadata": {},
   "outputs": [
    {
     "data": {
      "text/plain": [
       "True"
      ]
     },
     "execution_count": 5,
     "metadata": {},
     "output_type": "execute_result"
    }
   ],
   "source": [
    "1<3<4"
   ]
  },
  {
   "cell_type": "code",
   "execution_count": 6,
   "metadata": {},
   "outputs": [],
   "source": [
    "index = np.zeros(10)"
   ]
  },
  {
   "cell_type": "code",
   "execution_count": 7,
   "metadata": {},
   "outputs": [],
   "source": [
    "index[np.logical_and(1<a,a<4)] = True"
   ]
  },
  {
   "cell_type": "code",
   "execution_count": 8,
   "metadata": {},
   "outputs": [
    {
     "data": {
      "text/plain": [
       "array([0., 0., 1., 1., 0., 0., 0., 0., 0., 0.])"
      ]
     },
     "execution_count": 8,
     "metadata": {},
     "output_type": "execute_result"
    }
   ],
   "source": [
    "index"
   ]
  },
  {
   "cell_type": "code",
   "execution_count": 9,
   "metadata": {},
   "outputs": [],
   "source": [
    "a = np.zeros(10,dtype=bool)\n",
    "b = np.ones(10,dtype=bool)\n",
    "c = np.arange(10)"
   ]
  },
  {
   "cell_type": "code",
   "execution_count": 10,
   "metadata": {},
   "outputs": [
    {
     "data": {
      "text/plain": [
       "array([False, False,  True, False, False, False, False, False, False,\n",
       "       False])"
      ]
     },
     "execution_count": 10,
     "metadata": {},
     "output_type": "execute_result"
    }
   ],
   "source": [
    "a[np.logical_and(1<c,2>=c, 3>c)] = True\n",
    "a"
   ]
  },
  {
   "cell_type": "code",
   "execution_count": 11,
   "metadata": {},
   "outputs": [
    {
     "data": {
      "text/plain": [
       "True"
      ]
     },
     "execution_count": 11,
     "metadata": {},
     "output_type": "execute_result"
    }
   ],
   "source": [
    "np.all(b)"
   ]
  },
  {
   "cell_type": "code",
   "execution_count": 3,
   "metadata": {},
   "outputs": [
    {
     "data": {
      "text/plain": [
       "True"
      ]
     },
     "execution_count": 3,
     "metadata": {},
     "output_type": "execute_result"
    }
   ],
   "source": [
    "np.any(c)"
   ]
  },
  {
   "cell_type": "code",
   "execution_count": 13,
   "metadata": {},
   "outputs": [
    {
     "data": {
      "text/plain": [
       "True"
      ]
     },
     "execution_count": 13,
     "metadata": {},
     "output_type": "execute_result"
    }
   ],
   "source": [
    "np.all(b) and not np.all(c)"
   ]
  },
  {
   "cell_type": "code",
   "execution_count": 14,
   "metadata": {},
   "outputs": [
    {
     "data": {
      "text/plain": [
       "array([False, False, False, False, False, False, False, False, False,\n",
       "       False])"
      ]
     },
     "execution_count": 14,
     "metadata": {},
     "output_type": "execute_result"
    }
   ],
   "source": [
    "np.logical_and( np.logical_and(1<a,a<4),np.logical_and(2<a,a<5) )"
   ]
  },
  {
   "cell_type": "code",
   "execution_count": 15,
   "metadata": {},
   "outputs": [
    {
     "name": "stdout",
     "output_type": "stream",
     "text": [
      "z:  6\n",
      "NIRCam_deep: depth mag=-16.1,  number density limit = 8.2e+03\n",
      "NIRCam_med: depth mag=-17.0,  number density limit = 2.0e+03\n",
      "Roman_deep: depth mag=-17.7,  number density limit = 2.7e+00\n",
      "Roman_wide: depth mag=-19.7,  number density limit = 5.3e-02\n",
      "Euclid_deep: depth mag=-20.7,  number density limit = 2.7e+00\n",
      "Euclid_wide: depth mag=-22.7,  number density limit = 7.1e-03\n",
      "z:  7\n",
      "NIRCam_deep: depth mag=-16.4,  number density limit = 9.2e+03\n",
      "NIRCam_med: depth mag=-17.3,  number density limit = 2.2e+03\n",
      "Roman_deep: depth mag=-18.0,  number density limit = 3.0e+00\n",
      "Roman_wide: depth mag=-20.0,  number density limit = 6.0e-02\n",
      "Euclid_deep: depth mag=-21.0,  number density limit = 3.0e+00\n",
      "Euclid_wide: depth mag=-23.0,  number density limit = 7.9e-03\n",
      "z:  8\n",
      "NIRCam_deep: depth mag=-16.6,  number density limit = 1.0e+04\n",
      "NIRCam_med: depth mag=-17.5,  number density limit = 2.5e+03\n",
      "Roman_deep: depth mag=-18.2,  number density limit = 3.3e+00\n",
      "Roman_wide: depth mag=-20.2,  number density limit = 6.6e-02\n",
      "Euclid_deep: depth mag=-21.2,  number density limit = 3.3e+00\n",
      "Euclid_wide: depth mag=-23.2,  number density limit = 8.8e-03\n",
      "z:  9\n",
      "NIRCam_deep: depth mag=-16.8,  number density limit = 1.1e+04\n",
      "NIRCam_med: depth mag=-17.7,  number density limit = 2.8e+03\n",
      "Roman_deep: depth mag=-18.4,  number density limit = 3.7e+00\n",
      "Roman_wide: depth mag=-20.4,  number density limit = 7.3e-02\n",
      "Euclid_deep: depth mag=-21.4,  number density limit = 3.7e+00\n",
      "Euclid_wide: depth mag=-23.4,  number density limit = 9.7e-03\n",
      "z:  10\n",
      "NIRCam_deep: depth mag=-16.9,  number density limit = 1.2e+04\n",
      "NIRCam_med: depth mag=-17.8,  number density limit = 3.0e+03\n",
      "Roman_deep: depth mag=-18.5,  number density limit = 4.0e+00\n",
      "Roman_wide: depth mag=-20.5,  number density limit = 8.0e-02\n",
      "Euclid_deep: depth mag=-21.5,  number density limit = 4.0e+00\n",
      "Euclid_wide: depth mag=-23.5,  number density limit = 1.1e-02\n"
     ]
    },
    {
     "name": "stderr",
     "output_type": "stream",
     "text": [
      "ERROR:root:Invalid alias: The name clear can't be aliased because it is another magic command.\n",
      "ERROR:root:Invalid alias: The name more can't be aliased because it is another magic command.\n",
      "ERROR:root:Invalid alias: The name less can't be aliased because it is another magic command.\n",
      "ERROR:root:Invalid alias: The name man can't be aliased because it is another magic command.\n"
     ]
    }
   ],
   "source": [
    "for z in np.arange(6,11):\n",
    "    print('z: ',z)\n",
    "    # print('depth mag: ', M_absolute(Depth['NIRCam_deep'],z))\n",
    "    # print('number density limit: ', 1e9/Vc(Area['NIRCam_deep'],z,1))\n",
    "    for label in ['NIRCam_deep','NIRCam_med','Roman_deep','Roman_wide','Euclid_deep','Euclid_wide']:\n",
    "        print('{:s}: depth mag={:.1f},  number density limit = {:.1e}'.format(label,M_absolute(Depth[label],z), 1e9/Vc(Area[label],z,1)))\n",
    "exit(0)"
   ]
  },
  {
   "cell_type": "code",
   "execution_count": 20,
   "metadata": {},
   "outputs": [
    {
     "name": "stdout",
     "output_type": "stream",
     "text": [
      "Roman_wide: depth mag=-21.2,  Vc = 9.6e+09 Mpc\n"
     ]
    }
   ],
   "source": [
    "# try reproduce Harikane 2022 N_detect of z~13 galaxies, by Roman HLS (Wide as I call it)\n",
    "z = 13\n",
    "\n",
    "from astropy.cosmology import FlatLambdaCDM\n",
    "import astropy.units as u\n",
    "cosmo = FlatLambdaCDM(H0=0.6774*100 * u.km / u.s / u.Mpc, Tcmb0=2.725 * u.K, Om0=0.3089)\n",
    "\n",
    "def M_absolute(m_apparent,z):\n",
    "    dl = cosmo.luminosity_distance(z)\n",
    "    return m_apparent+2.5*np.log10((10/(dl.value*(10**6)))**2*(1+z))\n",
    "\n",
    "# comoving volumes\n",
    "def Vc(A_deg2,z,dz):\n",
    "    dp = cosmo.comoving_distance(z+dz/2.)\n",
    "    dm = cosmo.comoving_distance(z-dz/2.)\n",
    "    return 4*np.pi/3. * A_deg2/41253.* ( pow(dp.value,3) - pow(dm.value,3) )\n",
    "\n",
    "# print('depth mag: ', M_absolute(Depth['NIRCam_deep'],z))\n",
    "# print('number density limit: ', 1e9/Vc(Area['NIRCam_deep'],z,1))\n",
    "\n",
    "depth = 26.7; area = 2000 \n",
    "print('{:s}: depth mag={:.1f},  Vc = {:.1e} Mpc'.format(label,M_absolute(depth,z), Vc(area,z,1)))\n"
   ]
  },
  {
   "cell_type": "code",
   "execution_count": null,
   "metadata": {},
   "outputs": [],
   "source": []
  }
 ],
 "metadata": {
  "kernelspec": {
   "display_name": "Python 3",
   "language": "python",
   "name": "python3"
  },
  "language_info": {
   "codemirror_mode": {
    "name": "ipython",
    "version": 3
   },
   "file_extension": ".py",
   "mimetype": "text/x-python",
   "name": "python",
   "nbconvert_exporter": "python",
   "pygments_lexer": "ipython3",
   "version": "3.7.3"
  }
 },
 "nbformat": 4,
 "nbformat_minor": 2
}
